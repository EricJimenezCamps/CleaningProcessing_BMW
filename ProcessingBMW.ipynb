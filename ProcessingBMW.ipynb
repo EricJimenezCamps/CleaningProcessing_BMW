{
 "cells": [
  {
   "cell_type": "markdown",
   "metadata": {},
   "source": [
    "Data Processing - Project BMW"
   ]
  },
  {
   "cell_type": "code",
   "execution_count": 2,
   "metadata": {},
   "outputs": [],
   "source": [
    "#Importamos las librerias.\n",
    "import pandas as pd\n",
    "import numpy as np\n",
    "import matplotlib.pyplot as plt\n",
    "import seaborn as sns\n",
    "from sklearn.preprocessing import LabelEncoder,MinMaxScaler"
   ]
  },
  {
   "cell_type": "code",
   "execution_count": 3,
   "metadata": {},
   "outputs": [],
   "source": [
    "#Leemos el archivo CSV con los datos tratados.\n",
    "df_bmw= pd.read_csv('/Users/ericaj/Desktop/GENERAL/ProyectosDs/Project_CleaningProcessing_BMW/bmw_clean.csv')"
   ]
  },
  {
   "cell_type": "code",
   "execution_count": 4,
   "metadata": {},
   "outputs": [
    {
     "data": {
      "text/html": [
       "<div>\n",
       "<style scoped>\n",
       "    .dataframe tbody tr th:only-of-type {\n",
       "        vertical-align: middle;\n",
       "    }\n",
       "\n",
       "    .dataframe tbody tr th {\n",
       "        vertical-align: top;\n",
       "    }\n",
       "\n",
       "    .dataframe thead th {\n",
       "        text-align: right;\n",
       "    }\n",
       "</style>\n",
       "<table border=\"1\" class=\"dataframe\">\n",
       "  <thead>\n",
       "    <tr style=\"text-align: right;\">\n",
       "      <th></th>\n",
       "      <th>Unnamed: 0</th>\n",
       "      <th>modelo</th>\n",
       "      <th>km</th>\n",
       "      <th>potencia</th>\n",
       "      <th>fecha_registro</th>\n",
       "      <th>tipo_gasolina</th>\n",
       "      <th>color</th>\n",
       "      <th>tipo_coche</th>\n",
       "      <th>volante_regulable</th>\n",
       "      <th>aire_acondicionado</th>\n",
       "      <th>camara_trasera</th>\n",
       "      <th>asientos_traseros_plegables</th>\n",
       "      <th>elevalunas_electrico</th>\n",
       "      <th>bluetooth</th>\n",
       "      <th>gps</th>\n",
       "      <th>alerta_lim_velocidad</th>\n",
       "      <th>precio</th>\n",
       "      <th>fecha_venta</th>\n",
       "    </tr>\n",
       "  </thead>\n",
       "  <tbody>\n",
       "    <tr>\n",
       "      <th>0</th>\n",
       "      <td>0</td>\n",
       "      <td>118</td>\n",
       "      <td>140411.0</td>\n",
       "      <td>100.0</td>\n",
       "      <td>2012-02-01</td>\n",
       "      <td>diesel</td>\n",
       "      <td>black</td>\n",
       "      <td>convertible</td>\n",
       "      <td>True</td>\n",
       "      <td>True</td>\n",
       "      <td>False</td>\n",
       "      <td>False</td>\n",
       "      <td>True</td>\n",
       "      <td>True</td>\n",
       "      <td>True</td>\n",
       "      <td>False</td>\n",
       "      <td>11300.0</td>\n",
       "      <td>2018-01-01</td>\n",
       "    </tr>\n",
       "    <tr>\n",
       "      <th>1</th>\n",
       "      <td>1</td>\n",
       "      <td>M4</td>\n",
       "      <td>13929.0</td>\n",
       "      <td>317.0</td>\n",
       "      <td>2016-04-01</td>\n",
       "      <td>petrol</td>\n",
       "      <td>grey</td>\n",
       "      <td>convertible</td>\n",
       "      <td>True</td>\n",
       "      <td>True</td>\n",
       "      <td>False</td>\n",
       "      <td>False</td>\n",
       "      <td>False</td>\n",
       "      <td>True</td>\n",
       "      <td>True</td>\n",
       "      <td>True</td>\n",
       "      <td>69700.0</td>\n",
       "      <td>2018-02-01</td>\n",
       "    </tr>\n",
       "    <tr>\n",
       "      <th>2</th>\n",
       "      <td>2</td>\n",
       "      <td>320</td>\n",
       "      <td>183297.0</td>\n",
       "      <td>120.0</td>\n",
       "      <td>2012-04-01</td>\n",
       "      <td>diesel</td>\n",
       "      <td>white</td>\n",
       "      <td>convertible</td>\n",
       "      <td>False</td>\n",
       "      <td>False</td>\n",
       "      <td>False</td>\n",
       "      <td>False</td>\n",
       "      <td>True</td>\n",
       "      <td>False</td>\n",
       "      <td>True</td>\n",
       "      <td>False</td>\n",
       "      <td>10200.0</td>\n",
       "      <td>2018-02-01</td>\n",
       "    </tr>\n",
       "    <tr>\n",
       "      <th>3</th>\n",
       "      <td>3</td>\n",
       "      <td>420</td>\n",
       "      <td>128035.0</td>\n",
       "      <td>135.0</td>\n",
       "      <td>2014-07-01</td>\n",
       "      <td>diesel</td>\n",
       "      <td>red</td>\n",
       "      <td>convertible</td>\n",
       "      <td>True</td>\n",
       "      <td>True</td>\n",
       "      <td>False</td>\n",
       "      <td>False</td>\n",
       "      <td>True</td>\n",
       "      <td>True</td>\n",
       "      <td>True</td>\n",
       "      <td>True</td>\n",
       "      <td>25100.0</td>\n",
       "      <td>2018-02-01</td>\n",
       "    </tr>\n",
       "    <tr>\n",
       "      <th>4</th>\n",
       "      <td>4</td>\n",
       "      <td>425</td>\n",
       "      <td>97097.0</td>\n",
       "      <td>160.0</td>\n",
       "      <td>2014-12-01</td>\n",
       "      <td>diesel</td>\n",
       "      <td>silver</td>\n",
       "      <td>convertible</td>\n",
       "      <td>True</td>\n",
       "      <td>True</td>\n",
       "      <td>False</td>\n",
       "      <td>False</td>\n",
       "      <td>False</td>\n",
       "      <td>True</td>\n",
       "      <td>True</td>\n",
       "      <td>True</td>\n",
       "      <td>33400.0</td>\n",
       "      <td>2018-04-01</td>\n",
       "    </tr>\n",
       "  </tbody>\n",
       "</table>\n",
       "</div>"
      ],
      "text/plain": [
       "   Unnamed: 0 modelo        km  potencia fecha_registro tipo_gasolina   color  \\\n",
       "0           0    118  140411.0     100.0     2012-02-01        diesel   black   \n",
       "1           1     M4   13929.0     317.0     2016-04-01        petrol    grey   \n",
       "2           2    320  183297.0     120.0     2012-04-01        diesel   white   \n",
       "3           3    420  128035.0     135.0     2014-07-01        diesel     red   \n",
       "4           4    425   97097.0     160.0     2014-12-01        diesel  silver   \n",
       "\n",
       "    tipo_coche volante_regulable  aire_acondicionado  camara_trasera  \\\n",
       "0  convertible              True                True           False   \n",
       "1  convertible              True                True           False   \n",
       "2  convertible             False               False           False   \n",
       "3  convertible              True                True           False   \n",
       "4  convertible              True                True           False   \n",
       "\n",
       "  asientos_traseros_plegables elevalunas_electrico bluetooth   gps  \\\n",
       "0                       False                 True      True  True   \n",
       "1                       False                False      True  True   \n",
       "2                       False                 True     False  True   \n",
       "3                       False                 True      True  True   \n",
       "4                       False                False      True  True   \n",
       "\n",
       "  alerta_lim_velocidad   precio fecha_venta  \n",
       "0                False  11300.0  2018-01-01  \n",
       "1                 True  69700.0  2018-02-01  \n",
       "2                False  10200.0  2018-02-01  \n",
       "3                 True  25100.0  2018-02-01  \n",
       "4                 True  33400.0  2018-04-01  "
      ]
     },
     "execution_count": 4,
     "metadata": {},
     "output_type": "execute_result"
    }
   ],
   "source": [
    "df_bmw.head()"
   ]
  },
  {
   "cell_type": "code",
   "execution_count": 5,
   "metadata": {},
   "outputs": [],
   "source": [
    "del(df_bmw['Unnamed: 0'])"
   ]
  },
  {
   "cell_type": "code",
   "execution_count": 7,
   "metadata": {},
   "outputs": [
    {
     "name": "stdout",
     "output_type": "stream",
     "text": [
      "<class 'pandas.core.frame.DataFrame'>\n",
      "RangeIndex: 4834 entries, 0 to 4833\n",
      "Data columns (total 17 columns):\n",
      " #   Column                       Non-Null Count  Dtype  \n",
      "---  ------                       --------------  -----  \n",
      " 0   modelo                       4834 non-null   object \n",
      " 1   km                           4834 non-null   float64\n",
      " 2   potencia                     4834 non-null   float64\n",
      " 3   fecha_registro               4834 non-null   object \n",
      " 4   tipo_gasolina                4834 non-null   object \n",
      " 5   color                        4834 non-null   object \n",
      " 6   tipo_coche                   4834 non-null   object \n",
      " 7   volante_regulable            4834 non-null   object \n",
      " 8   aire_acondicionado           4834 non-null   bool   \n",
      " 9   camara_trasera               4834 non-null   bool   \n",
      " 10  asientos_traseros_plegables  4834 non-null   object \n",
      " 11  elevalunas_electrico         4834 non-null   object \n",
      " 12  bluetooth                    4834 non-null   object \n",
      " 13  gps                          4834 non-null   bool   \n",
      " 14  alerta_lim_velocidad         4834 non-null   object \n",
      " 15  precio                       4834 non-null   float64\n",
      " 16  fecha_venta                  4834 non-null   object \n",
      "dtypes: bool(3), float64(3), object(11)\n",
      "memory usage: 543.0+ KB\n"
     ]
    }
   ],
   "source": [
    "df_bmw.info()"
   ]
  },
  {
   "cell_type": "code",
   "execution_count": 8,
   "metadata": {},
   "outputs": [],
   "source": [
    "df_bmw['fecha_registro']=pd.to_datetime(df_bmw['fecha_registro'])\n",
    "df_bmw['fecha_venta']=pd.to_datetime(df_bmw['fecha_venta'])"
   ]
  },
  {
   "cell_type": "markdown",
   "metadata": {},
   "source": [
    "ANALISIS UNIVARIABLE -->"
   ]
  },
  {
   "cell_type": "code",
   "execution_count": 10,
   "metadata": {},
   "outputs": [
    {
     "name": "stdout",
     "output_type": "stream",
     "text": [
      "320                750\n",
      "520                633\n",
      "318                567\n",
      "X3                 438\n",
      "116                358\n",
      "                  ... \n",
      "M135                 1\n",
      "225                  1\n",
      "i8                   1\n",
      "630                  1\n",
      "214 Gran Tourer      1\n",
      "Name: modelo, Length: 76, dtype: int64\n",
      "140997.0    4\n",
      "164621.0    2\n",
      "171792.0    2\n",
      "106434.0    2\n",
      "86420.0     2\n",
      "           ..\n",
      "87542.0     1\n",
      "166108.0    1\n",
      "155538.0    1\n",
      "96491.0     1\n",
      "195840.0    1\n",
      "Name: km, Length: 4774, dtype: int64\n",
      "135.0    881\n",
      "120.0    783\n",
      "85.0     630\n",
      "100.0    569\n",
      "105.0    449\n",
      "        ... \n",
      "224.0      1\n",
      "412.0      1\n",
      "423.0      1\n",
      "300.0      1\n",
      "261.0      1\n",
      "Name: potencia, Length: 61, dtype: int64\n",
      "2013-07-01    173\n",
      "2014-03-01    162\n",
      "2014-05-01    153\n",
      "2013-01-01    148\n",
      "2013-09-01    148\n",
      "             ... \n",
      "2000-07-01      1\n",
      "2017-11-01      1\n",
      "2002-09-01      1\n",
      "2004-12-01      1\n",
      "2007-12-01      1\n",
      "Name: fecha_registro, Length: 199, dtype: int64\n",
      "diesel           4632\n",
      "petrol            191\n",
      "hybrid_petrol       8\n",
      "electro             3\n",
      "Name: tipo_gasolina, dtype: int64\n",
      "black        1627\n",
      "grey         1171\n",
      "blue          706\n",
      "white         536\n",
      "brown         341\n",
      "silver        325\n",
      "red            51\n",
      "beige          41\n",
      "green          18\n",
      "sin_color      12\n",
      "orange          6\n",
      "Name: color, dtype: int64\n",
      "estate            1599\n",
      "sedan             1167\n",
      "suv               1056\n",
      "hatchback          699\n",
      "subcompact         113\n",
      "coupe              103\n",
      "convertible         46\n",
      "van                 42\n",
      "sin_tipo_coche       9\n",
      "Name: tipo_coche, dtype: int64\n",
      "True                           2658\n",
      "False                          2172\n",
      "sin_datos_volante_regulable       4\n",
      "Name: volante_regulable, dtype: int64\n",
      "True     3834\n",
      "False    1000\n",
      "Name: aire_acondicionado, dtype: int64\n",
      "False    3858\n",
      "True      976\n",
      "Name: camara_trasera, dtype: int64\n",
      "False                                    3869\n",
      "True                                      961\n",
      "sin_datos_asientos_traseros_plegables       4\n",
      "Name: asientos_traseros_plegables, dtype: int64\n",
      "False                             2606\n",
      "True                              2226\n",
      "sin_datos_elevalinas_electrico       2\n",
      "Name: elevalunas_electrico, dtype: int64\n",
      "False                3661\n",
      "True                 1169\n",
      "sin_datos_butooth       4\n",
      "Name: bluetooth, dtype: int64\n",
      "True     4506\n",
      "False     328\n",
      "Name: gps, dtype: int64\n",
      "True                              2614\n",
      "False                             2218\n",
      "sin_datos_alerta_lim_velocidad       2\n",
      "Name: alerta_lim_velocidad, dtype: int64\n",
      "13100.0    68\n",
      "14900.0    64\n",
      "11900.0    61\n",
      "14300.0    60\n",
      "13400.0    57\n",
      "           ..\n",
      "1500.0      1\n",
      "25200.0     1\n",
      "68700.0     1\n",
      "51500.0     1\n",
      "45100.0     1\n",
      "Name: precio, Length: 438, dtype: int64\n",
      "2018-05-01    809\n",
      "2018-03-01    737\n",
      "2018-04-01    691\n",
      "2018-06-01    602\n",
      "2018-07-01    537\n",
      "2018-08-01    526\n",
      "2018-02-01    502\n",
      "2018-09-01    222\n",
      "2018-01-01    208\n",
      "Name: fecha_venta, dtype: int64\n"
     ]
    }
   ],
   "source": [
    "for i in df_bmw:\n",
    "    print(df_bmw[i].value_counts())"
   ]
  },
  {
   "cell_type": "markdown",
   "metadata": {},
   "source": [
    "CATEGORIZACIÓN DE VARIABLES -->"
   ]
  },
  {
   "cell_type": "code",
   "execution_count": 11,
   "metadata": {},
   "outputs": [],
   "source": [
    "target= ['precio']"
   ]
  },
  {
   "cell_type": "code",
   "execution_count": 12,
   "metadata": {},
   "outputs": [],
   "source": [
    "def obtener_lista_variables(dataset):\n",
    "  lista_numericas= []\n",
    "  lista_booleans= []\n",
    "  lista_categoricas= []\n",
    "  for i in dataset: \n",
    "    if (dataset[i].dtype.kind== 'i' or dataset[i].dtype.kind=='f') and (i not in target) and (len(dataset[i].unique()) !=2):\n",
    "      lista_numericas.append(i)\n",
    "    elif (dataset[i].dtype.kind== 'i' or dataset[i].dtype.kind=='f') and (i not in target) and (len(dataset[i].unique())==2):\n",
    "      lista_booleans.append(i)\n",
    "    elif (dataset[i].dtype.kind== 'O') and (i not in target):\n",
    "      lista_categoricas.append(i)\n",
    "\n",
    "\n",
    "  return lista_numericas, lista_booleans, lista_categoricas"
   ]
  },
  {
   "cell_type": "code",
   "execution_count": 14,
   "metadata": {},
   "outputs": [],
   "source": [
    "l_num, l_bool, l_cat= obtener_lista_variables(df_bmw)"
   ]
  },
  {
   "cell_type": "code",
   "execution_count": 15,
   "metadata": {},
   "outputs": [
    {
     "data": {
      "text/plain": [
       "['km', 'potencia']"
      ]
     },
     "execution_count": 15,
     "metadata": {},
     "output_type": "execute_result"
    }
   ],
   "source": [
    "l_num"
   ]
  },
  {
   "cell_type": "code",
   "execution_count": 16,
   "metadata": {},
   "outputs": [
    {
     "data": {
      "text/plain": [
       "[]"
      ]
     },
     "execution_count": 16,
     "metadata": {},
     "output_type": "execute_result"
    }
   ],
   "source": [
    "l_bool"
   ]
  },
  {
   "cell_type": "code",
   "execution_count": 17,
   "metadata": {},
   "outputs": [
    {
     "data": {
      "text/plain": [
       "['modelo',\n",
       " 'tipo_gasolina',\n",
       " 'color',\n",
       " 'tipo_coche',\n",
       " 'volante_regulable',\n",
       " 'asientos_traseros_plegables',\n",
       " 'elevalunas_electrico',\n",
       " 'bluetooth',\n",
       " 'alerta_lim_velocidad']"
      ]
     },
     "execution_count": 17,
     "metadata": {},
     "output_type": "execute_result"
    }
   ],
   "source": [
    "l_cat"
   ]
  },
  {
   "cell_type": "code",
   "execution_count": 18,
   "metadata": {},
   "outputs": [],
   "source": [
    "#Logica de las variables."
   ]
  },
  {
   "cell_type": "code",
   "execution_count": 19,
   "metadata": {},
   "outputs": [
    {
     "data": {
      "image/png": "[encoded data removed]",
      "text/plain": [
       "<Figure size 432x288 with 1 Axes>"
      ]
     },
     "metadata": {
      "needs_background": "light"
     },
     "output_type": "display_data"
    },
    {
     "data": {
      "image/png": "[encoded data removed]",
      "text/plain": [
       "<Figure size 432x288 with 1 Axes>"
      ]
     },
     "metadata": {
      "needs_background": "light"
     },
     "output_type": "display_data"
    }
   ],
   "source": [
    "for i in l_num:\n",
    "    df_bmw.hist(i)"
   ]
  },
  {
   "cell_type": "code",
   "execution_count": 20,
   "metadata": {},
   "outputs": [
    {
     "name": "stdout",
     "output_type": "stream",
     "text": [
      "320                750\n",
      "520                633\n",
      "318                567\n",
      "X3                 438\n",
      "116                358\n",
      "                  ... \n",
      "M135                 1\n",
      "225                  1\n",
      "i8                   1\n",
      "630                  1\n",
      "214 Gran Tourer      1\n",
      "Name: modelo, Length: 76, dtype: int64\n",
      "diesel           4632\n",
      "petrol            191\n",
      "hybrid_petrol       8\n",
      "electro             3\n",
      "Name: tipo_gasolina, dtype: int64\n",
      "black        1627\n",
      "grey         1171\n",
      "blue          706\n",
      "white         536\n",
      "brown         341\n",
      "silver        325\n",
      "red            51\n",
      "beige          41\n",
      "green          18\n",
      "sin_color      12\n",
      "orange          6\n",
      "Name: color, dtype: int64\n",
      "estate            1599\n",
      "sedan             1167\n",
      "suv               1056\n",
      "hatchback          699\n",
      "subcompact         113\n",
      "coupe              103\n",
      "convertible         46\n",
      "van                 42\n",
      "sin_tipo_coche       9\n",
      "Name: tipo_coche, dtype: int64\n",
      "True                           2658\n",
      "False                          2172\n",
      "sin_datos_volante_regulable       4\n",
      "Name: volante_regulable, dtype: int64\n",
      "False                                    3869\n",
      "True                                      961\n",
      "sin_datos_asientos_traseros_plegables       4\n",
      "Name: asientos_traseros_plegables, dtype: int64\n",
      "False                             2606\n",
      "True                              2226\n",
      "sin_datos_elevalinas_electrico       2\n",
      "Name: elevalunas_electrico, dtype: int64\n",
      "False                3661\n",
      "True                 1169\n",
      "sin_datos_butooth       4\n",
      "Name: bluetooth, dtype: int64\n",
      "True                              2614\n",
      "False                             2218\n",
      "sin_datos_alerta_lim_velocidad       2\n",
      "Name: alerta_lim_velocidad, dtype: int64\n"
     ]
    }
   ],
   "source": [
    "for i in l_cat:\n",
    "    print(df_bmw[i].value_counts())"
   ]
  },
  {
   "cell_type": "code",
   "execution_count": 21,
   "metadata": {},
   "outputs": [],
   "source": [
    "df_bmw2= df_bmw.copy() #Hacemos un checkpoint."
   ]
  },
  {
   "cell_type": "code",
   "execution_count": null,
   "metadata": {},
   "outputs": [],
   "source": []
  }
 ],
 "metadata": {
  "kernelspec": {
   "display_name": "Python 3.9.12 ('base')",
   "language": "python",
   "name": "python3"
  },
  "language_info": {
   "codemirror_mode": {
    "name": "ipython",
    "version": 3
   },
   "file_extension": ".py",
   "mimetype": "text/x-python",
   "name": "python",
   "nbconvert_exporter": "python",
   "pygments_lexer": "ipython3",
   "version": "3.9.12"
  },
  "orig_nbformat": 4,
  "vscode": {
   "interpreter": {
    "hash": "adb7041578217d1bfcfb0e416a67a228f0c8ab5a76829dd085f74a67331b6098"
   }
  }
 },
 "nbformat": 4,
 "nbformat_minor": 2
}
